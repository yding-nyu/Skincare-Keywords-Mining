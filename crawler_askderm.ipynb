{
 "cells": [
  {
   "cell_type": "code",
   "execution_count": 2,
   "metadata": {},
   "outputs": [],
   "source": [
    "import requests\n",
    "import time\n",
    "import random\n",
    "import re\n",
    "from openpyxl import Workbook\n",
    "from bs4 import BeautifulSoup\n",
    "from urllib.request import Request\n",
    "from urllib.request import urlopen\n",
    "\n",
    "UAS = (\"Mozilla/5.0 (Windows NT 6.1; WOW64; rv:40.0) Gecko/20100101 Firefox/40.1\", \n",
    "       \"Mozilla/5.0 (Windows NT 6.3; rv:36.0) Gecko/20100101 Firefox/36.0\",\n",
    "       \"Mozilla/5.0 (Macintosh; Intel Mac OS X 10_10; rv:33.0) Gecko/20100101 Firefox/33.0\",\n",
    "       \"Mozilla/5.0 (Windows NT 6.1) AppleWebKit/537.36 (KHTML, like Gecko) Chrome/41.0.2228.0 Safari/537.36\",\n",
    "       \"Mozilla/5.0 (Macintosh; Intel Mac OS X 10_10_1) AppleWebKit/537.36 (KHTML, like Gecko) Chrome/41.0.2227.1 Safari/537.36\",\n",
    "       \"Mozilla/5.0 (Windows NT 6.1; WOW64) AppleWebKit/537.36 (KHTML, like Gecko) Chrome/41.0.2227.0 Safari/537.36\",\n",
    "       )\n",
    "\n",
    "ua = UAS[random.randrange(len(UAS))]\n",
    "headers = {'user-agent': ua}"
   ]
  },
  {
   "cell_type": "code",
   "execution_count": 27,
   "metadata": {},
   "outputs": [],
   "source": [
    "def get_urls(url):\n",
    "    \"\"\"从每个列表页获取文章url\"\"\"\n",
    "    req = Request(url= url, headers = headers)\n",
    "    html = urlopen(req).read()\n",
    "    soup = BeautifulSoup(html, features='lxml')\n",
    "    all_href= soup.find_all('a', class_='btn')\n",
    "    b_list = []\n",
    "    for l in all_href:\n",
    "        b_list.append('https://askderm.com'+ l['href'])\n",
    "    return b_list"
   ]
  },
  {
   "cell_type": "code",
   "execution_count": 28,
   "metadata": {},
   "outputs": [
    {
     "data": {
      "text/plain": [
       "['https://askderm.com/blogs/askderm-blog/2017-holiday-gift-guide',\n",
       " 'https://askderm.com/blogs/askderm-blog/nuface-nubody-giveaway',\n",
       " 'https://askderm.com/blogs/askderm-blog/how-to-slay-the-4th-of-july',\n",
       " 'https://askderm.com/blogs/askderm-blog/glowbiotics-brightening-essential-kit-giveaway',\n",
       " 'https://askderm.com/blogs/askderm-blog/beauty-chemistry-101-what-to-mix-and-what-not-to-mix']"
      ]
     },
     "execution_count": 28,
     "metadata": {},
     "output_type": "execute_result"
    }
   ],
   "source": [
    "get_urls('https://askderm.com/blogs/askderm-blog?page=1')"
   ]
  },
  {
   "cell_type": "code",
   "execution_count": 33,
   "metadata": {},
   "outputs": [],
   "source": [
    "def get_info(url):\n",
    "    \"\"\"获取标题、作者、发布时间及正文内容\"\"\"\n",
    "    time.sleep(0.1)\n",
    "    req = Request(url, headers = headers)\n",
    "    html = urlopen(req).read()\n",
    "    soup = BeautifulSoup(html, features='lxml')\n",
    "  \n",
    "    if soup.find('h1') == None:\n",
    "        return {'url': url, 'title': None, 'author and date': None, 'body': None}\n",
    "    else:\n",
    "        title = soup.find('h1').text\n",
    "        link = soup.find('p',class_='entry-meta')\n",
    "        author= link.find('strong').text\n",
    "        date=link.find('time').text\n",
    "        author_date = author + ' '+ date\n",
    "        p_list=[]\n",
    "        for p in soup.find_all('div', itemprop='articleBody'):\n",
    "            p_list.append(p.text)\n",
    "            body = '\\n'.join(p_list)\n",
    "        return {'url': url, 'title': title, 'author and date': author_date, 'body': body}"
   ]
  },
  {
   "cell_type": "code",
   "execution_count": 34,
   "metadata": {},
   "outputs": [
    {
     "data": {
      "text/plain": [
       "{'url': 'https://askderm.com/blogs/askderm-blog/glow-like-a-holiday-star',\n",
       " 'title': 'Glow Like a Holiday Star',\n",
       " 'author and date': 'Vanessa Sterling December 03, 2017',\n",
       " 'body': \"\\nThe holiday season is all about shiny ornaments, shimmering light displays, warm glowing fireplaces…but one thing that tends to not glow during the holidays is dull chapped and dry skin! No matter how perfect your skin is, we all seem to get more sensitive and dry during the holiday season. The key to beating the cold and dry weather is exfoliation, nourishing and protecting your delicate winter skin, and askderm.com has the perfect recipe to looking your best for every holiday occasion.\\nBe Gentle\\nThe most significant mistake that we can fall into with our skin is using a cleansing regimen that is too harsh. DCL Express Waterless Makeup Remover is gentle yet effective and won’t dry out your skin. It also has calming ingredients like Aloe and Chamomile and uses Hyaluronic Acid to keep moisture attracted to your skin. It’s also important to use a gentle and non-drying face cleanser. Glytone Mild Gel Cleanser uses the power of glycolic acid to gently exfoliate away dead skin cells and but will still leave your skin supple and smooth.\\nExfoliation\\nBecause this weather can be harsh enough on our skin as it is, it can be better for some people to opt to use a chemical or enzyme method of exfoliation during the winter and save their brushes and scrubs for the summer. NeoStrata Skin Active Perfecting Peel is a high strength at home face peel. When used once a week this two-step peel kit offers remarkable anti-aging and skin smoothing results and improves the appearance of pigmentation, fine lines, and overall skin texture. If you have very sensitive skin, the Z. Bigatti Re-Storation Impact Fruit Enzyme Facial Mask may be a better option. After smoothing on the face and neck, leave on for just 3 minutes, and the mask will gently exfoliate and condition your skin, improve elasticity, apparent pore size, texture, tone and reduce the appearance of fine lines. The best time to exfoliate your skin is at night after cleansing your face. Although a lot of exfoliation products may say that its ok to use them daily, start with once a week and adjust your use depending on how your skin reacts, so you don’t run the risk of burning or irritation. Following up your exfoliation treatment with a moisturizer or moisture barrier product is critical. Even if your skin isn’t red and raw, that doesn’t mean that you didn’t get results.\\nNourish\\nNow that you have\\xa0wiped away your dead skin cells it’s important to nurture that fresh and exposed layer of your skin. NeoCutis Journee BioCream Riche Bio-Restorative Skin Balm was designed with climate changes in mind and is perfect for people who have just had exfoliation treatments. The wild yam extract balances and moisturizes skin and it locks in moisture all day. It’s anti-aging properties also works wonders for fine lines and wrinkles. For really dry and sensitive skin sometimes the only thing topical heavy winter products seem to deliver is breakouts. Whether you’re breakout prone or you need something extra to boost your winter regimen, taking oral supplements is the best solution. I fall into this category and have found that Elon R3 Extra Strength delivers fantastic results during the winter and all year long. The Aqua-Nutrient complex, Biotin, Silica, and L-cysteine are a wealth of proteins, vitamins, and minerals. Although Biotin is known for its effects on hair, it also promotes more youthful skin. When taken along with other supplements your beauty and glow will be nourished from the inside and out even during the winter!\\nHeal and Protect\\nThe final step of a good winter skincare regimen is to help heal your sensitive skin by protecting it from the harsh weather and other pollutants. Glytone Lipid Recovery Cream uses the power of healthy lipids to speed up your skin’s healing process. Designed for severe weather and for use after laser treatments and peels, the blend of vitamin A, Squalane, Camelina Oil and Shea Butter is a professional strength and luxurious cream that will treat you with the tender care that it needs. You may also find that on especially irritated or chapped skin you need a full on barrier to protect it. Lantiseptic Skin Protectant is enriched with 50% lanolin and is the number one choice of long-term care facilities. The product provides a moisture barrier for sealing out wetness and irritants to help maintain your delicate skin's integrity. It can be used all over the face an body and it totally fragrance-free.\\nMany of these products are beneficial all year round as is making sure to use an SPF 30 or higher during the day (yes even if you’re just going in your car to get something from the grocery store!). Now you can be party ready for any winter day and any winter’s eve.\\n\\n\\n\\nFollow askderm on\\xa0Facebook,\\xa0Instagram,\\xa0Pinterest\\xa0and\\xa0Twitter\\xa0to be the first to know about giveaways, new product releases, and sales! Use\\xa0#askderm\\xa0when you share photos of our products,\\xa0and showcase your amazing results!\\xa0\\n\\n\"}"
      ]
     },
     "execution_count": 34,
     "metadata": {},
     "output_type": "execute_result"
    }
   ],
   "source": [
    "get_info('https://askderm.com/blogs/askderm-blog/glow-like-a-holiday-star')"
   ]
  },
  {
   "cell_type": "code",
   "execution_count": 35,
   "metadata": {},
   "outputs": [],
   "source": [
    "def save_as_xls(info_list):\n",
    "    \"\"\"将获取到的文章信息存储到本地\"\"\"\n",
    "    workbook = Workbook()\n",
    "    worksheet = workbook.active\n",
    "    worksheet.title = 'sheet1'\n",
    "    titles = ['URL', 'Title', 'Author and Date', 'Content']\n",
    "    keys = ['url', 'title', 'author and date', 'body']\n",
    "    for index, title in enumerate(titles, start=1):\n",
    "        worksheet.cell(row=1, column=index, value=title)\n",
    "    for i, info in enumerate(info_list, start=1):\n",
    "        for j,key in enumerate(keys, start=1):\n",
    "            worksheet.cell(row=i+1, column=j, value=info[key])\n",
    "    workbook.save('info.xlsx')"
   ]
  },
  {
   "cell_type": "code",
   "execution_count": 36,
   "metadata": {},
   "outputs": [
    {
     "data": {
      "text/plain": [
       "['https://askderm.com/blogs/askderm-blog?page=1',\n",
       " 'https://askderm.com/blogs/askderm-blog?page=2',\n",
       " 'https://askderm.com/blogs/askderm-blog?page=3',\n",
       " 'https://askderm.com/blogs/askderm-blog?page=4',\n",
       " 'https://askderm.com/blogs/askderm-blog?page=5',\n",
       " 'https://askderm.com/blogs/askderm-blog?page=6',\n",
       " 'https://askderm.com/blogs/askderm-blog?page=7',\n",
       " 'https://askderm.com/blogs/askderm-blog?page=8',\n",
       " 'https://askderm.com/blogs/askderm-blog?page=9',\n",
       " 'https://askderm.com/blogs/askderm-blog?page=10',\n",
       " 'https://askderm.com/blogs/askderm-blog?page=11',\n",
       " 'https://askderm.com/blogs/askderm-blog?page=12',\n",
       " 'https://askderm.com/blogs/askderm-blog?page=13',\n",
       " 'https://askderm.com/blogs/askderm-blog?page=14',\n",
       " 'https://askderm.com/blogs/askderm-blog?page=15',\n",
       " 'https://askderm.com/blogs/askderm-blog?page=16',\n",
       " 'https://askderm.com/blogs/askderm-blog?page=17',\n",
       " 'https://askderm.com/blogs/askderm-blog?page=18',\n",
       " 'https://askderm.com/blogs/askderm-blog?page=19',\n",
       " 'https://askderm.com/blogs/askderm-blog?page=20',\n",
       " 'https://askderm.com/blogs/askderm-blog?page=21',\n",
       " 'https://askderm.com/blogs/askderm-blog?page=22',\n",
       " 'https://askderm.com/blogs/askderm-blog?page=23',\n",
       " 'https://askderm.com/blogs/askderm-blog?page=24',\n",
       " 'https://askderm.com/blogs/askderm-blog?page=25',\n",
       " 'https://askderm.com/blogs/askderm-blog?page=26']"
      ]
     },
     "execution_count": 36,
     "metadata": {},
     "output_type": "execute_result"
    }
   ],
   "source": [
    "list=[]\n",
    "for i in range(1,27):\n",
    "    list.append('https://askderm.com/blogs/askderm-blog?page='+ str(i))\n",
    "list"
   ]
  },
  {
   "cell_type": "code",
   "execution_count": 37,
   "metadata": {},
   "outputs": [],
   "source": [
    "def main():\n",
    "    \"\"\"main function\"\"\"\n",
    "    info_list = []\n",
    "    for i in list:\n",
    "        b_list = get_urls(i)\n",
    "        for url in b_list:\n",
    "            info_list.append(get_info(url))\n",
    "    save_as_xls(info_list)\n",
    "    \n",
    "if __name__ == \"__main__\":\n",
    "    main()"
   ]
  },
  {
   "cell_type": "code",
   "execution_count": 20,
   "metadata": {},
   "outputs": [
    {
     "data": {
      "text/plain": [
       "{'url': 'https://askderm.com/blogs/askderm-blog/beauty-chemistry-101-what-to-mix-and-what-not-to-mix',\n",
       " 'title': 'Beauty Chemistry 101: What to Mix and What Not to Mix',\n",
       " 'author and date': 'Vanessa Sterling June 04, 2018',\n",
       " 'body': ' Using these two ingredients in tandem can lead to extreme drying, flaking and irritation which can ultimately lead to breakouts and skin that looks more aged. Retinols/Retinoids usually take about 10 days or more to leave your system so if you want to be able to get the benefits of both ingredients its better to start with your salicylic or glycolic regimen until you are satisfied with your results, discontinue your use and then start with your retinol/retinoid routine. If you have extremely oily skin and you find that your skin can handle using products with both of these ingredients at the same time stick to a cleanser with salicylic or glycolic acid because it has shorter contact with your skin than a cream ointment or gel. \\nStart with the Murad Acne Clearing Solution .\\n Not only is this combo extremely irritating but it can also make you more photo sensitive which can ultimately lead to an intensifying effect on your hyper-pigmentation.\\xa0 If you’re looking to banish your dark spots and still exfoliate your skin cut the brightener and just use your gentle exfoliant and use a really good SPF. When your skin is protected is produces less melanin and because you’re exfoliating that pigmentation will gradually dust away on its own without the use of brighteners.\\nI would recommend the\\xa0Crop Natural Detoxifying Charcoal Facial Scrub\\xa0 \\xa0along with\\xa0\\nVitamin C is one of the most power packed skincare ingredients out there however it is also an extremely unstable antioxidant which means that you have to be really careful with what you use with it. Using it along with Alpha-Hydroxy Acids and Salicylic acid can throw off the pH of the product(s) leaving them totally useless.\\nAs we know retinols/retinoids increase cell turnover which is why they do wonders for skin conditions like acne and wrinkles. The problem with this is that it also makes your skin more sensitive to sunlight than normal so make sure to apply and reapply SPF during the day and save your retinol/oid products for your nighttime routine.\\nDon’t worry not all ingredients are incompatible you can still reap the benefits of using multiple power packed ingredients. \\n Ferulic Acid is an awesome antioxidant that helps enhance the properties of other skin loving vitamins and helps with sun protection as well. While retinol is great for skin firming, and boosting clarity and glow, when ferric acid is added to the mix it helps retinol do its job even better by helping it get deeper into the skin and promotes collagen production as well. \\nUsing La Roche-Posay Pigmentclar Serum Intensive Dark Spot Correcting Serum\\xa0\\nVitamin A (includes retinol and retinoids) helps smooth fine lines and wrinkles and increases the moisture and bounce in your skin. Vitamin C helps even out your skin tone and offers environmental defense and Vitamin E helps add another level of defense. When all of these vitamins are used together you have the perfect recipe for nourishing and protecting your skin from a bunch of different angles. \\nUse the Murad Retinol Youth Renewal Serum\\xa0\\nalong with the Crop Antioxidant Facial Cream\\xa0\\xa0to give your skin the vitamins that it craves. \\nWith its ability to hold 1,000 times its weight in water, Hylauronic acid does wonders when it comes to hydrating the skin. Even though retinol is great at stimulating cell turnover the downside is that it usually increases dryness which is why these two are a match made in heaven.\\xa0 The DCL Profoundly Effective A Cream SPF 30\\xa0 not only has both Retinol and Hyaluronic Acid but it’s also loaded with other skin loving ingredients to soften firm and hydrate your skin. '}"
      ]
     },
     "execution_count": 20,
     "metadata": {},
     "output_type": "execute_result"
    }
   ],
   "source": [
    "get_info('https://askderm.com/blogs/askderm-blog/beauty-chemistry-101-what-to-mix-and-what-not-to-mix')"
   ]
  },
  {
   "cell_type": "code",
   "execution_count": 18,
   "metadata": {},
   "outputs": [
    {
     "name": "stdout",
     "output_type": "stream",
     "text": [
      "Beauty Chemistry 101: What to Mix and What Not to Mix\n"
     ]
    }
   ],
   "source": [
    "url = 'https://askderm.com/blogs/askderm-blog/beauty-chemistry-101-what-to-mix-and-what-not-to-mix'\n",
    "req = Request(url, headers = headers)\n",
    "html = urlopen(req).read()\n",
    "soup = BeautifulSoup(html, features='lxml')   \n",
    "title = soup.find('h1').text\n",
    "for link in soup.find_all('p',class_='entry-meta'):\n",
    "        author= link.find('strong').text\n",
    "        date=link.find('time').text\n",
    "author_date = author + ' '+ date\n",
    "p_list=[]\n",
    "for p in soup.find_all('span', class_='s1'):\n",
    "    p_list.append(p.text)\n",
    "body = '\\n'.join(p_list)\n",
    "print(title)"
   ]
  },
  {
   "cell_type": "code",
   "execution_count": 6,
   "metadata": {},
   "outputs": [
    {
     "data": {
      "text/plain": [
       "['/blogs/askderm-blog/2017-holiday-gift-guide',\n",
       " '/blogs/askderm-blog/nuface-nubody-giveaway',\n",
       " '/blogs/askderm-blog/how-to-slay-the-4th-of-july',\n",
       " '/blogs/askderm-blog/glowbiotics-brightening-essential-kit-giveaway',\n",
       " '/blogs/askderm-blog/beauty-chemistry-101-what-to-mix-and-what-not-to-mix']"
      ]
     },
     "execution_count": 6,
     "metadata": {},
     "output_type": "execute_result"
    }
   ],
   "source": [
    "get_urls('https://askderm.com/blogs/askderm-blog?page=1')"
   ]
  },
  {
   "cell_type": "code",
   "execution_count": null,
   "metadata": {},
   "outputs": [],
   "source": []
  }
 ],
 "metadata": {
  "kernelspec": {
   "display_name": "Python 3",
   "language": "python",
   "name": "python3"
  },
  "language_info": {
   "codemirror_mode": {
    "name": "ipython",
    "version": 3
   },
   "file_extension": ".py",
   "mimetype": "text/x-python",
   "name": "python",
   "nbconvert_exporter": "python",
   "pygments_lexer": "ipython3",
   "version": "3.6.5"
  }
 },
 "nbformat": 4,
 "nbformat_minor": 2
}
