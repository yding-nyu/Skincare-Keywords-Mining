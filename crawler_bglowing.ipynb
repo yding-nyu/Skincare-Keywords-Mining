{
 "cells": [
  {
   "cell_type": "code",
   "execution_count": 13,
   "metadata": {},
   "outputs": [],
   "source": [
    "import requests\n",
    "import time\n",
    "import random\n",
    "import re\n",
    "from openpyxl import Workbook\n",
    "from bs4 import BeautifulSoup\n",
    "from urllib.request import Request\n",
    "from urllib.request import urlopen\n",
    "\n",
    "UAS = (\"Mozilla/5.0 (Windows NT 6.1; WOW64; rv:40.0) Gecko/20100101 Firefox/40.1\", \n",
    "       \"Mozilla/5.0 (Windows NT 6.3; rv:36.0) Gecko/20100101 Firefox/36.0\",\n",
    "       \"Mozilla/5.0 (Macintosh; Intel Mac OS X 10_10; rv:33.0) Gecko/20100101 Firefox/33.0\",\n",
    "       \"Mozilla/5.0 (Windows NT 6.1) AppleWebKit/537.36 (KHTML, like Gecko) Chrome/41.0.2228.0 Safari/537.36\",\n",
    "       \"Mozilla/5.0 (Macintosh; Intel Mac OS X 10_10_1) AppleWebKit/537.36 (KHTML, like Gecko) Chrome/41.0.2227.1 Safari/537.36\",\n",
    "       \"Mozilla/5.0 (Windows NT 6.1; WOW64) AppleWebKit/537.36 (KHTML, like Gecko) Chrome/41.0.2227.0 Safari/537.36\",\n",
    "       )\n",
    "\n",
    "ua = UAS[random.randrange(len(UAS))]\n",
    "headers = {'user-agent': ua}"
   ]
  },
  {
   "cell_type": "code",
   "execution_count": 14,
   "metadata": {},
   "outputs": [],
   "source": [
    "def get_urls(url):\n",
    "    \"\"\"从每个列表页获取文章url\"\"\"\n",
    "    req = Request(url= url, headers = headers)\n",
    "    html = urlopen(req).read()\n",
    "    soup = BeautifulSoup(html, features='lxml')\n",
    "    b_list = []\n",
    "    for link in soup.find_all('h2',class_='entry-title'):\n",
    "        url= link.find('a')\n",
    "        b_list.append(url['href'])\n",
    "    return b_list"
   ]
  },
  {
   "cell_type": "code",
   "execution_count": 30,
   "metadata": {},
   "outputs": [],
   "source": [
    "def get_info(url):\n",
    "    \"\"\"获取标题、作者、发布时间及正文内容\"\"\"\n",
    "    time.sleep(0.1)\n",
    "    req = Request(url, headers = headers)\n",
    "    html = urlopen(req).read()\n",
    "    soup = BeautifulSoup(html, features='lxml')\n",
    "\n",
    "    if soup.find('h1', class_='entry-title') == None:\n",
    "        return {'url': url, 'title': None, 'author and date': None, 'body': None}\n",
    "    else:\n",
    "        if soup.find('time',class_='entry-date published') == None:\n",
    "            title = soup.find('h1', class_='entry-title').text\n",
    "            body = soup.find('div', class_='entry-content').text\n",
    "            return {'url': url, 'title': title, 'author and date': None, 'body': None}\n",
    "        else:\n",
    "            title = soup.find('h1', class_='entry-title').text\n",
    "            author_date = soup.find('time',class_='entry-date published').text\n",
    "            body = soup.find('div', class_='entry-content').text\n",
    "        return {'url': url, 'title': title, 'author and date': author_date, 'body': body}"
   ]
  },
  {
   "cell_type": "code",
   "execution_count": 31,
   "metadata": {},
   "outputs": [],
   "source": [
    "def save_as_xls(info_list):\n",
    "    \"\"\"将获取到的文章信息存储到本地\"\"\"\n",
    "    workbook = Workbook()\n",
    "    worksheet = workbook.active\n",
    "    worksheet.title = 'sheet1'\n",
    "    titles = ['URL', 'Title', 'Author and Date', 'Content']\n",
    "    keys = ['url', 'title', 'author and date', 'body']\n",
    "    for index, title in enumerate(titles, start=1):\n",
    "        worksheet.cell(row=1, column=index, value=title)\n",
    "    for i, info in enumerate(info_list, start=1):\n",
    "        for j,key in enumerate(keys, start=1):\n",
    "            worksheet.cell(row=i+1, column=j, value=info[key])\n",
    "    workbook.save('info.xlsx')"
   ]
  },
  {
   "cell_type": "code",
   "execution_count": 32,
   "metadata": {},
   "outputs": [
    {
     "data": {
      "text/plain": [
       "['https://www.b-glowing.com/blog/category/skincare/',\n",
       " 'https://www.b-glowing.com/blog/category/skincare/page/2',\n",
       " 'https://www.b-glowing.com/blog/category/skincare/page/3',\n",
       " 'https://www.b-glowing.com/blog/category/skincare/page/4',\n",
       " 'https://www.b-glowing.com/blog/category/skincare/page/5',\n",
       " 'https://www.b-glowing.com/blog/category/skincare/page/6',\n",
       " 'https://www.b-glowing.com/blog/category/skincare/page/7',\n",
       " 'https://www.b-glowing.com/blog/category/skincare/page/8',\n",
       " 'https://www.b-glowing.com/blog/category/skincare/page/9',\n",
       " 'https://www.b-glowing.com/blog/category/skincare/page/10',\n",
       " 'https://www.b-glowing.com/blog/category/skincare/page/11',\n",
       " 'https://www.b-glowing.com/blog/category/skincare/page/12']"
      ]
     },
     "execution_count": 32,
     "metadata": {},
     "output_type": "execute_result"
    }
   ],
   "source": [
    "list=['https://www.b-glowing.com/blog/category/skincare/']\n",
    "for i in range(2,13):\n",
    "    list.append('https://www.b-glowing.com/blog/category/skincare/page/'+ str(i))\n",
    "list"
   ]
  },
  {
   "cell_type": "code",
   "execution_count": 33,
   "metadata": {},
   "outputs": [],
   "source": [
    "def main():\n",
    "    \"\"\"main function\"\"\"\n",
    "    info_list = []\n",
    "    for i in list:\n",
    "        b_list = get_urls(i)\n",
    "        for url in b_list:\n",
    "            info_list.append(get_info(url))\n",
    "    save_as_xls(info_list)\n",
    "    \n",
    "if __name__ == \"__main__\":\n",
    "    main()"
   ]
  },
  {
   "cell_type": "code",
   "execution_count": 10,
   "metadata": {},
   "outputs": [
    {
     "data": {
      "text/plain": [
       "{'url': 'https://www.b-glowing.com/blog/soak-it-in-8-game-changing-serums-for-the-win/',\n",
       " 'title': 'Soak It In: 8 Game-changing Serums for the WIN',\n",
       " 'author and date': '01.22.2015',\n",
       " 'body': \"\\n\\nTruth: everything is connected. Life happens, and then, frankly, the results of how we live truly does “show up” on our face. First, there's the weather. During winter months, some of us get dry and chapped skin.\\nThen, there's literally how we weather our lives. An internal sense of happiness can often fuel the outer glow on our skin. And stress can affect our skin and create blemishes. Additionally, the amount of self-care we extend towards ourselves such as drinking enough water or getting enough sleep can make our lovely lady laughter lines appear much more prominent, because the skin is dehydrated and tired.\\xa0\\n\\xa0\\nOK. First, why talk about serums if I’m already using a moisturizer?\\nSimply put: a serum packs the most punch. The best thing you can do for your skin is to implement a specialized serum. Serums are the workhorses of the skincare regime because they are the most potent and permeable. Unlike other creams and salves, the molecules of serums are smaller and penetrate the skin at a deeper level, so it is imperative that they are applied before any other products. Moisturizers are key because they serve as emollients and maintain the moisture barrier of ones skin. Reach for your fave moisturizer AFTER you apply a serum.\\n\\xa0\\nHow do I choose a serum?\\nWe suggest you start with the biggest skin concern you have. Our skin is quite dynamic and can often offer up fine lines and blemishes at the same time. Its best to clear up the breakout with a targeted serum first before addressing the fine lines. However, sometimes, our dreams come true and ingredients like glycolic and retinol multi-task in one product! \\xa0\\n\\xa0\\nWhat’s Your #1 Skincare Concern?\\nAssess what’s currently going on in your life, and how your skin may be reacting. Then, take a look below to find your first skincare concern.\\xa0\\n\\xa0\\nBlemishes\\nStar ingredients to look for when treating acne are: Salicylic acid, Glycolic, Retinol, Tea Tree Oil, and Clays. We like the Purifying Acne Serum from Suki and Drunk Elephant’s TLC Glycolic Night Serum.\\xa0\\n\\n\\xa0\\nSensitive Skin\\xa0\\nIf your skin has been flaring up with redness and sensitivity we recommend looking for serums with Chamomile, Calendula and Lavender. We like First Aid Beauty Ultra Repair Liquid Recovery and Avene Hydrance Optimale Hydrating Serum.\\xa0\\n\\n\\xa0\\nDark Spots\\nDiminish hyperpigmentation with serums touting Vitamin C, Raspberry Extract and Glycolic. We like White Marble Radiance Emulsion from Erno Laszlo and Kahina Giving Beauty Brightening Serum.\\xa0\\n\\n\\xa0\\nAnti-Aging\\nDon’t fret over fine lines and wrinkles when you can have serums packed with Glycolic Acid, Retinol, Hyaluronic Acid, and Fruit Enzymes. We like This Primer Serum from IT Cosmetics, and The Arcona Youth Serum.\\xa0\\n\\n\\xa0\\nHere’s to your new game-changing skin routine fueled by the power of the beloved serum. Tell us below in the comments about the results you’re experiencing or take a pic and tag it on Instagram or Twitter with hashtag #bglowingResults!\\n\"}"
      ]
     },
     "execution_count": 10,
     "metadata": {},
     "output_type": "execute_result"
    }
   ],
   "source": [
    "get_info('https://www.b-glowing.com/blog/soak-it-in-8-game-changing-serums-for-the-win/')"
   ]
  },
  {
   "cell_type": "code",
   "execution_count": 8,
   "metadata": {},
   "outputs": [
    {
     "name": "stdout",
     "output_type": "stream",
     "text": [
      "\n",
      "\n",
      "Truth: everything is connected. Life happens, and then, frankly, the results of how we live truly does “show up” on our face. First, there's the weather. During winter months, some of us get dry and chapped skin.\n",
      "Then, there's literally how we weather our lives. An internal sense of happiness can often fuel the outer glow on our skin. And stress can affect our skin and create blemishes. Additionally, the amount of self-care we extend towards ourselves such as drinking enough water or getting enough sleep can make our lovely lady laughter lines appear much more prominent, because the skin is dehydrated and tired. \n",
      " \n",
      "OK. First, why talk about serums if I’m already using a moisturizer?\n",
      "Simply put: a serum packs the most punch. The best thing you can do for your skin is to implement a specialized serum. Serums are the workhorses of the skincare regime because they are the most potent and permeable. Unlike other creams and salves, the molecules of serums are smaller and penetrate the skin at a deeper level, so it is imperative that they are applied before any other products. Moisturizers are key because they serve as emollients and maintain the moisture barrier of ones skin. Reach for your fave moisturizer AFTER you apply a serum.\n",
      " \n",
      "How do I choose a serum?\n",
      "We suggest you start with the biggest skin concern you have. Our skin is quite dynamic and can often offer up fine lines and blemishes at the same time. Its best to clear up the breakout with a targeted serum first before addressing the fine lines. However, sometimes, our dreams come true and ingredients like glycolic and retinol multi-task in one product!  \n",
      " \n",
      "What’s Your #1 Skincare Concern?\n",
      "Assess what’s currently going on in your life, and how your skin may be reacting. Then, take a look below to find your first skincare concern. \n",
      " \n",
      "Blemishes\n",
      "Star ingredients to look for when treating acne are: Salicylic acid, Glycolic, Retinol, Tea Tree Oil, and Clays. We like the Purifying Acne Serum from Suki and Drunk Elephant’s TLC Glycolic Night Serum. \n",
      "\n",
      " \n",
      "Sensitive Skin \n",
      "If your skin has been flaring up with redness and sensitivity we recommend looking for serums with Chamomile, Calendula and Lavender. We like First Aid Beauty Ultra Repair Liquid Recovery and Avene Hydrance Optimale Hydrating Serum. \n",
      "\n",
      " \n",
      "Dark Spots\n",
      "Diminish hyperpigmentation with serums touting Vitamin C, Raspberry Extract and Glycolic. We like White Marble Radiance Emulsion from Erno Laszlo and Kahina Giving Beauty Brightening Serum. \n",
      "\n",
      " \n",
      "Anti-Aging\n",
      "Don’t fret over fine lines and wrinkles when you can have serums packed with Glycolic Acid, Retinol, Hyaluronic Acid, and Fruit Enzymes. We like This Primer Serum from IT Cosmetics, and The Arcona Youth Serum. \n",
      "\n",
      " \n",
      "Here’s to your new game-changing skin routine fueled by the power of the beloved serum. Tell us below in the comments about the results you’re experiencing or take a pic and tag it on Instagram or Twitter with hashtag #bglowingResults!\n",
      "\n"
     ]
    }
   ],
   "source": [
    "url = 'https://www.b-glowing.com/blog/soak-it-in-8-game-changing-serums-for-the-win/'\n",
    "req = Request(url, headers = headers)\n",
    "html = urlopen(req).read()\n",
    "soup = BeautifulSoup(html, features='lxml')   \n",
    "title = soup.find('h1', class_='entry-title').text\n",
    "author_date = soup.find('time',class_='entry-date published').text\n",
    "body = soup.find('div', class_='entry-content').text\n",
    "print(body)"
   ]
  },
  {
   "cell_type": "code",
   "execution_count": 25,
   "metadata": {},
   "outputs": [
    {
     "data": {
      "text/plain": [
       "['https://www.b-glowing.com/blog/beautybythestars-happy-birthday-capricorn/',\n",
       " 'https://www.b-glowing.com/blog/take-care-mind/',\n",
       " 'https://www.b-glowing.com/blog/sk-ii-beautiful-skin-starts-beautiful-ritual/',\n",
       " 'https://www.b-glowing.com/blog/our-top-five-malin-goetz-favorites/',\n",
       " 'https://www.b-glowing.com/blog/4-facial-mists-cant-get-enough-hot-weather-not/']"
      ]
     },
     "execution_count": 25,
     "metadata": {},
     "output_type": "execute_result"
    }
   ],
   "source": [
    "get_urls('https://www.b-glowing.com/blog/category/skincare/page/5')"
   ]
  },
  {
   "cell_type": "code",
   "execution_count": null,
   "metadata": {},
   "outputs": [],
   "source": []
  }
 ],
 "metadata": {
  "kernelspec": {
   "display_name": "Python 3",
   "language": "python",
   "name": "python3"
  },
  "language_info": {
   "codemirror_mode": {
    "name": "ipython",
    "version": 3
   },
   "file_extension": ".py",
   "mimetype": "text/x-python",
   "name": "python",
   "nbconvert_exporter": "python",
   "pygments_lexer": "ipython3",
   "version": "3.6.9"
  }
 },
 "nbformat": 4,
 "nbformat_minor": 2
}
