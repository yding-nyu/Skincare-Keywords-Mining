{
 "cells": [
  {
   "cell_type": "code",
   "execution_count": 45,
   "metadata": {},
   "outputs": [],
   "source": [
    "import requests\n",
    "import time\n",
    "import random\n",
    "import re\n",
    "from openpyxl import Workbook\n",
    "from bs4 import BeautifulSoup\n",
    "from urllib.request import Request\n",
    "from urllib.request import urlopen\n",
    "\n",
    "UAS = (\"Mozilla/5.0 (Windows NT 6.1; WOW64; rv:40.0) Gecko/20100101 Firefox/40.1\", \n",
    "       \"Mozilla/5.0 (Windows NT 6.3; rv:36.0) Gecko/20100101 Firefox/36.0\",\n",
    "       \"Mozilla/5.0 (Macintosh; Intel Mac OS X 10_10; rv:33.0) Gecko/20100101 Firefox/33.0\",\n",
    "       \"Mozilla/5.0 (Windows NT 6.1) AppleWebKit/537.36 (KHTML, like Gecko) Chrome/41.0.2228.0 Safari/537.36\",\n",
    "       \"Mozilla/5.0 (Macintosh; Intel Mac OS X 10_10_1) AppleWebKit/537.36 (KHTML, like Gecko) Chrome/41.0.2227.1 Safari/537.36\",\n",
    "       \"Mozilla/5.0 (Windows NT 6.1; WOW64) AppleWebKit/537.36 (KHTML, like Gecko) Chrome/41.0.2227.0 Safari/537.36\",\n",
    "       )\n",
    "\n",
    "ua = UAS[random.randrange(len(UAS))]\n",
    "headers = {'user-agent': ua}"
   ]
  },
  {
   "cell_type": "code",
   "execution_count": 28,
   "metadata": {},
   "outputs": [
    {
     "name": "stdout",
     "output_type": "stream",
     "text": [
      "['https://www.skinstore.com/blog/events/brilliant-gift-ideas-for-mothers-day/', 'https://www.skinstore.com/blog/skincare/how-to-get-your-fix-with-nuface/', 'https://www.skinstore.com/blog/skincare/which-vitamin-c-serum-is-right-for-me/', 'https://www.skinstore.com/blog/body/this-just-in-our-newest-brands-this-month/', 'https://www.skinstore.com/blog/skincare/all-about-our-latest-brand-addition-rodial/', 'https://www.skinstore.com/blog/skincare/feeling-22-whats-in-our-anniversary-giveaway-bag/', 'https://www.skinstore.com/blog/skincare/glow-to-bed-glycolic-10-renew-overnight/', 'https://www.skinstore.com/blog/skincare/your-winter-skin-problems-solved-with-la-roche-posay/', 'https://www.skinstore.com/blog/skincare/farm-to-beauty-juice-beautys-full-cycle-mission-to-ensure-all-natural-ingredients/', 'https://www.skinstore.com/blog/skincare/female-founders-why-we-say-yes-to-sunday-riley/']\n"
     ]
    },
    {
     "data": {
      "text/plain": [
       "10"
      ]
     },
     "execution_count": 28,
     "metadata": {},
     "output_type": "execute_result"
    }
   ],
   "source": [
    "req = Request(url= 'https://www.skinstore.com/blog/skincare/page/2/', headers = headers)\n",
    "html = urlopen(req).read()\n",
    "soup = BeautifulSoup(html, features='lxml')\n",
    "b_list = []\n",
    "for link in soup.find_all('h4',class_='post-card__title'):\n",
    "    url= link.find('a')\n",
    "    b_list.append(url['href'])\n",
    "print(b_list)\n",
    "len(b_list)"
   ]
  },
  {
   "cell_type": "code",
   "execution_count": 46,
   "metadata": {},
   "outputs": [],
   "source": [
    "def get_urls(url):\n",
    "    \"\"\"从每个列表页获取文章url\"\"\"\n",
    "    req = Request(url= url, headers = headers)\n",
    "    html = urlopen(req).read()\n",
    "    soup = BeautifulSoup(html, features='lxml')\n",
    "    b_list = []\n",
    "    for link in soup.find_all('h4',class_='post-card__title'):\n",
    "        url= link.find('a')\n",
    "        b_list.append(url['href'])\n",
    "    return b_list"
   ]
  },
  {
   "cell_type": "code",
   "execution_count": 47,
   "metadata": {},
   "outputs": [
    {
     "data": {
      "text/plain": [
       "10"
      ]
     },
     "execution_count": 47,
     "metadata": {},
     "output_type": "execute_result"
    }
   ],
   "source": [
    "len(get_urls('https://www.skinstore.com/blog/skincare/page/2/'))"
   ]
  },
  {
   "cell_type": "code",
   "execution_count": 48,
   "metadata": {},
   "outputs": [],
   "source": [
    "def get_info(url):\n",
    "    \"\"\"获取标题、作者、发布时间及正文内容\"\"\"\n",
    "    time.sleep(0.1)\n",
    "    req = Request(url, headers = headers)\n",
    "    html = urlopen(req).read()\n",
    "    soup = BeautifulSoup(html, features='lxml')\n",
    "  \n",
    "    if soup.find('h1', class_='post-header__title') == None:\n",
    "        return {'url': url, 'title': None, 'author and date': None, 'body': None}\n",
    "    else:\n",
    "        title = soup.find('h1', class_='post-header__title').text\n",
    "        author_date = soup.find('a',class_='post-meta__link').text\n",
    "        p_list=[]\n",
    "        for p in soup.find_all('div', class_='post-content-inner'):\n",
    "            p_list.append(p.text)\n",
    "        body = '\\n'.join(p_list)\n",
    "        return {'url': url, 'title': title, 'author and date': author_date, 'body': body}"
   ]
  },
  {
   "cell_type": "code",
   "execution_count": 49,
   "metadata": {},
   "outputs": [],
   "source": [
    "def save_as_xls(info_list):\n",
    "    \"\"\"将获取到的文章信息存储到本地\"\"\"\n",
    "    workbook = Workbook()\n",
    "    worksheet = workbook.active\n",
    "    worksheet.title = 'sheet1'\n",
    "    titles = ['URL', 'Title', 'Author and Date', 'Content']\n",
    "    keys = ['url', 'title', 'author and date', 'body']\n",
    "    for index, title in enumerate(titles, start=1):\n",
    "        worksheet.cell(row=1, column=index, value=title)\n",
    "    for i, info in enumerate(info_list, start=1):\n",
    "        for j,key in enumerate(keys, start=1):\n",
    "            worksheet.cell(row=i+1, column=j, value=info[key])\n",
    "    workbook.save('info.xlsx')"
   ]
  },
  {
   "cell_type": "code",
   "execution_count": 50,
   "metadata": {},
   "outputs": [
    {
     "data": {
      "text/plain": [
       "52"
      ]
     },
     "execution_count": 50,
     "metadata": {},
     "output_type": "execute_result"
    }
   ],
   "source": [
    "list=['https://www.skinstore.com/blog/skincare/']\n",
    "for i in range(2,53):\n",
    "    list.append('https://www.skinstore.com/blog/skincare/page/'+ str(i))\n",
    "len(list)"
   ]
  },
  {
   "cell_type": "code",
   "execution_count": 51,
   "metadata": {},
   "outputs": [],
   "source": [
    "def main():\n",
    "    \"\"\"main function\"\"\"\n",
    "    info_list = []\n",
    "    for i in list:\n",
    "        b_list = get_urls(i)\n",
    "        for url in b_list:\n",
    "            info_list.append(get_info(url))\n",
    "    save_as_xls(info_list)\n",
    "    \n",
    "if __name__ == \"__main__\":\n",
    "    main()"
   ]
  },
  {
   "cell_type": "code",
   "execution_count": null,
   "metadata": {},
   "outputs": [],
   "source": []
  }
 ],
 "metadata": {
  "kernelspec": {
   "display_name": "Python 3",
   "language": "python",
   "name": "python3"
  },
  "language_info": {
   "codemirror_mode": {
    "name": "ipython",
    "version": 3
   },
   "file_extension": ".py",
   "mimetype": "text/x-python",
   "name": "python",
   "nbconvert_exporter": "python",
   "pygments_lexer": "ipython3",
   "version": "3.6.9"
  }
 },
 "nbformat": 4,
 "nbformat_minor": 2
}
